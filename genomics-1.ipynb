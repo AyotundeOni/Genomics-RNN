{
 "cells": [
  {
   "cell_type": "code",
   "execution_count": 1,
   "id": "66c0da6c",
   "metadata": {
    "_cell_guid": "b1076dfc-b9ad-4769-8c92-a6c4dae69d19",
    "_uuid": "8f2839f25d086af736a60e9eeb907d3b93b6e0e5",
    "execution": {
     "iopub.execute_input": "2025-09-24T00:53:58.056461Z",
     "iopub.status.busy": "2025-09-24T00:53:58.056088Z",
     "iopub.status.idle": "2025-09-24T00:53:59.683149Z",
     "shell.execute_reply": "2025-09-24T00:53:59.682322Z"
    },
    "papermill": {
     "duration": 1.634165,
     "end_time": "2025-09-24T00:53:59.684759",
     "exception": false,
     "start_time": "2025-09-24T00:53:58.050594",
     "status": "completed"
    },
    "tags": []
   },
   "outputs": [],
   "source": [
    "# This Python 3 environment comes with many helpful analytics libraries installed\n",
    "# It is defined by the kaggle/python Docker image: https://github.com/kaggle/docker-python\n",
    "# For example, here's several helpful packages to load\n",
    "\n",
    "import numpy as np # linear algebra\n",
    "import pandas as pd # data processing, CSV file I/O (e.g. pd.read_csv)\n",
    "\n",
    "# Input data files are available in the read-only \"../input/\" directory\n",
    "# For example, running this (by clicking run or pressing Shift+Enter) will list all files under the input directory\n",
    "\n",
    "import os\n",
    "for dirname, _, filenames in os.walk('/kaggle/input'):\n",
    "    for filename in filenames:\n",
    "        print(os.path.join(dirname, filename))\n",
    "\n",
    "# You can write up to 20GB to the current directory (/kaggle/working/) that gets preserved as output when you create a version using \"Save & Run All\" \n",
    "# You can also write temporary files to /kaggle/temp/, but they won't be saved outside of the current session"
   ]
  },
  {
   "cell_type": "markdown",
   "id": "83e768e7",
   "metadata": {
    "papermill": {
     "duration": 0.002569,
     "end_time": "2025-09-24T00:53:59.690759",
     "exception": false,
     "start_time": "2025-09-24T00:53:59.688190",
     "status": "completed"
    },
    "tags": []
   },
   "source": [
    "**Setting up enviroment**"
   ]
  },
  {
   "cell_type": "code",
   "execution_count": 2,
   "id": "48da8472",
   "metadata": {
    "execution": {
     "iopub.execute_input": "2025-09-24T00:53:59.697670Z",
     "iopub.status.busy": "2025-09-24T00:53:59.696817Z",
     "iopub.status.idle": "2025-09-24T00:55:35.348717Z",
     "shell.execute_reply": "2025-09-24T00:55:35.347828Z"
    },
    "papermill": {
     "duration": 95.656989,
     "end_time": "2025-09-24T00:55:35.350470",
     "exception": false,
     "start_time": "2025-09-24T00:53:59.693481",
     "status": "completed"
    },
    "tags": []
   },
   "outputs": [
    {
     "name": "stdout",
     "output_type": "stream",
     "text": [
      "Requirement already satisfied: tensorflow in /usr/local/lib/python3.11/dist-packages (2.18.0)\r\n",
      "Collecting tensorflow\r\n",
      "  Downloading tensorflow-2.20.0-cp311-cp311-manylinux_2_17_x86_64.manylinux2014_x86_64.whl.metadata (4.5 kB)\r\n",
      "Requirement already satisfied: pandas in /usr/local/lib/python3.11/dist-packages (2.2.3)\r\n",
      "Collecting pandas\r\n",
      "  Downloading pandas-2.3.2-cp311-cp311-manylinux_2_17_x86_64.manylinux2014_x86_64.whl.metadata (91 kB)\r\n",
      "\u001b[2K     \u001b[90m━━━━━━━━━━━━━━━━━━━━━━━━━━━━━━━━━━━━━━━━\u001b[0m \u001b[32m91.2/91.2 kB\u001b[0m \u001b[31m3.1 MB/s\u001b[0m eta \u001b[36m0:00:00\u001b[0m\r\n",
      "\u001b[?25hRequirement already satisfied: numpy in /usr/local/lib/python3.11/dist-packages (1.26.4)\r\n",
      "Collecting numpy\r\n",
      "  Downloading numpy-2.3.3-cp311-cp311-manylinux_2_27_x86_64.manylinux_2_28_x86_64.whl.metadata (62 kB)\r\n",
      "\u001b[2K     \u001b[90m━━━━━━━━━━━━━━━━━━━━━━━━━━━━━━━━━━━━━━━━\u001b[0m \u001b[32m62.1/62.1 kB\u001b[0m \u001b[31m2.5 MB/s\u001b[0m eta \u001b[36m0:00:00\u001b[0m\r\n",
      "\u001b[?25hCollecting biopython\r\n",
      "  Downloading biopython-1.85-cp311-cp311-manylinux_2_17_x86_64.manylinux2014_x86_64.whl.metadata (13 kB)\r\n",
      "Requirement already satisfied: absl-py>=1.0.0 in /usr/local/lib/python3.11/dist-packages (from tensorflow) (1.4.0)\r\n",
      "Requirement already satisfied: astunparse>=1.6.0 in /usr/local/lib/python3.11/dist-packages (from tensorflow) (1.6.3)\r\n",
      "Requirement already satisfied: flatbuffers>=24.3.25 in /usr/local/lib/python3.11/dist-packages (from tensorflow) (25.2.10)\r\n",
      "Requirement already satisfied: gast!=0.5.0,!=0.5.1,!=0.5.2,>=0.2.1 in /usr/local/lib/python3.11/dist-packages (from tensorflow) (0.6.0)\r\n",
      "Requirement already satisfied: google_pasta>=0.1.1 in /usr/local/lib/python3.11/dist-packages (from tensorflow) (0.2.0)\r\n",
      "Requirement already satisfied: libclang>=13.0.0 in /usr/local/lib/python3.11/dist-packages (from tensorflow) (18.1.1)\r\n",
      "Requirement already satisfied: opt_einsum>=2.3.2 in /usr/local/lib/python3.11/dist-packages (from tensorflow) (3.4.0)\r\n",
      "Requirement already satisfied: packaging in /usr/local/lib/python3.11/dist-packages (from tensorflow) (25.0)\r\n",
      "Collecting protobuf>=5.28.0 (from tensorflow)\r\n",
      "  Downloading protobuf-6.32.1-cp39-abi3-manylinux2014_x86_64.whl.metadata (593 bytes)\r\n",
      "Requirement already satisfied: requests<3,>=2.21.0 in /usr/local/lib/python3.11/dist-packages (from tensorflow) (2.32.4)\r\n",
      "Requirement already satisfied: setuptools in /usr/local/lib/python3.11/dist-packages (from tensorflow) (75.2.0)\r\n",
      "Requirement already satisfied: six>=1.12.0 in /usr/local/lib/python3.11/dist-packages (from tensorflow) (1.17.0)\r\n",
      "Requirement already satisfied: termcolor>=1.1.0 in /usr/local/lib/python3.11/dist-packages (from tensorflow) (3.1.0)\r\n",
      "Requirement already satisfied: typing_extensions>=3.6.6 in /usr/local/lib/python3.11/dist-packages (from tensorflow) (4.14.0)\r\n",
      "Requirement already satisfied: wrapt>=1.11.0 in /usr/local/lib/python3.11/dist-packages (from tensorflow) (1.17.2)\r\n",
      "Requirement already satisfied: grpcio<2.0,>=1.24.3 in /usr/local/lib/python3.11/dist-packages (from tensorflow) (1.73.1)\r\n",
      "Collecting tensorboard~=2.20.0 (from tensorflow)\r\n",
      "  Downloading tensorboard-2.20.0-py3-none-any.whl.metadata (1.8 kB)\r\n",
      "Collecting keras>=3.10.0 (from tensorflow)\r\n",
      "  Downloading keras-3.11.3-py3-none-any.whl.metadata (5.9 kB)\r\n",
      "Requirement already satisfied: h5py>=3.11.0 in /usr/local/lib/python3.11/dist-packages (from tensorflow) (3.14.0)\r\n",
      "Collecting ml_dtypes<1.0.0,>=0.5.1 (from tensorflow)\r\n",
      "  Downloading ml_dtypes-0.5.3-cp311-cp311-manylinux_2_27_x86_64.manylinux_2_28_x86_64.whl.metadata (8.9 kB)\r\n",
      "Requirement already satisfied: python-dateutil>=2.8.2 in /usr/local/lib/python3.11/dist-packages (from pandas) (2.9.0.post0)\r\n",
      "Requirement already satisfied: pytz>=2020.1 in /usr/local/lib/python3.11/dist-packages (from pandas) (2025.2)\r\n",
      "Requirement already satisfied: tzdata>=2022.7 in /usr/local/lib/python3.11/dist-packages (from pandas) (2025.2)\r\n",
      "Requirement already satisfied: wheel<1.0,>=0.23.0 in /usr/local/lib/python3.11/dist-packages (from astunparse>=1.6.0->tensorflow) (0.45.1)\r\n",
      "Requirement already satisfied: rich in /usr/local/lib/python3.11/dist-packages (from keras>=3.10.0->tensorflow) (14.0.0)\r\n",
      "Requirement already satisfied: namex in /usr/local/lib/python3.11/dist-packages (from keras>=3.10.0->tensorflow) (0.1.0)\r\n",
      "Requirement already satisfied: optree in /usr/local/lib/python3.11/dist-packages (from keras>=3.10.0->tensorflow) (0.16.0)\r\n",
      "Requirement already satisfied: charset_normalizer<4,>=2 in /usr/local/lib/python3.11/dist-packages (from requests<3,>=2.21.0->tensorflow) (3.4.2)\r\n",
      "Requirement already satisfied: idna<4,>=2.5 in /usr/local/lib/python3.11/dist-packages (from requests<3,>=2.21.0->tensorflow) (3.10)\r\n",
      "Requirement already satisfied: urllib3<3,>=1.21.1 in /usr/local/lib/python3.11/dist-packages (from requests<3,>=2.21.0->tensorflow) (2.5.0)\r\n",
      "Requirement already satisfied: certifi>=2017.4.17 in /usr/local/lib/python3.11/dist-packages (from requests<3,>=2.21.0->tensorflow) (2025.6.15)\r\n",
      "Requirement already satisfied: markdown>=2.6.8 in /usr/local/lib/python3.11/dist-packages (from tensorboard~=2.20.0->tensorflow) (3.8.2)\r\n",
      "Requirement already satisfied: pillow in /usr/local/lib/python3.11/dist-packages (from tensorboard~=2.20.0->tensorflow) (11.2.1)\r\n",
      "Requirement already satisfied: tensorboard-data-server<0.8.0,>=0.7.0 in /usr/local/lib/python3.11/dist-packages (from tensorboard~=2.20.0->tensorflow) (0.7.2)\r\n",
      "Requirement already satisfied: werkzeug>=1.0.1 in /usr/local/lib/python3.11/dist-packages (from tensorboard~=2.20.0->tensorflow) (3.1.3)\r\n",
      "Requirement already satisfied: MarkupSafe>=2.1.1 in /usr/local/lib/python3.11/dist-packages (from werkzeug>=1.0.1->tensorboard~=2.20.0->tensorflow) (3.0.2)\r\n",
      "Requirement already satisfied: markdown-it-py>=2.2.0 in /usr/local/lib/python3.11/dist-packages (from rich->keras>=3.10.0->tensorflow) (3.0.0)\r\n",
      "Requirement already satisfied: pygments<3.0.0,>=2.13.0 in /usr/local/lib/python3.11/dist-packages (from rich->keras>=3.10.0->tensorflow) (2.19.2)\r\n",
      "Requirement already satisfied: mdurl~=0.1 in /usr/local/lib/python3.11/dist-packages (from markdown-it-py>=2.2.0->rich->keras>=3.10.0->tensorflow) (0.1.2)\r\n",
      "Downloading tensorflow-2.20.0-cp311-cp311-manylinux_2_17_x86_64.manylinux2014_x86_64.whl (620.6 MB)\r\n",
      "\u001b[2K   \u001b[90m━━━━━━━━━━━━━━━━━━━━━━━━━━━━━━━━━━━━━━━━\u001b[0m \u001b[32m620.6/620.6 MB\u001b[0m \u001b[31m2.4 MB/s\u001b[0m eta \u001b[36m0:00:00\u001b[0m\r\n",
      "\u001b[?25hDownloading pandas-2.3.2-cp311-cp311-manylinux_2_17_x86_64.manylinux2014_x86_64.whl (12.4 MB)\r\n",
      "\u001b[2K   \u001b[90m━━━━━━━━━━━━━━━━━━━━━━━━━━━━━━━━━━━━━━━━\u001b[0m \u001b[32m12.4/12.4 MB\u001b[0m \u001b[31m81.2 MB/s\u001b[0m eta \u001b[36m0:00:00\u001b[0m\r\n",
      "\u001b[?25hDownloading numpy-2.3.3-cp311-cp311-manylinux_2_27_x86_64.manylinux_2_28_x86_64.whl (16.9 MB)\r\n",
      "\u001b[2K   \u001b[90m━━━━━━━━━━━━━━━━━━━━━━━━━━━━━━━━━━━━━━━━\u001b[0m \u001b[32m16.9/16.9 MB\u001b[0m \u001b[31m72.4 MB/s\u001b[0m eta \u001b[36m0:00:00\u001b[0m\r\n",
      "\u001b[?25hDownloading biopython-1.85-cp311-cp311-manylinux_2_17_x86_64.manylinux2014_x86_64.whl (3.3 MB)\r\n",
      "\u001b[2K   \u001b[90m━━━━━━━━━━━━━━━━━━━━━━━━━━━━━━━━━━━━━━━━\u001b[0m \u001b[32m3.3/3.3 MB\u001b[0m \u001b[31m80.1 MB/s\u001b[0m eta \u001b[36m0:00:00\u001b[0m\r\n",
      "\u001b[?25hDownloading keras-3.11.3-py3-none-any.whl (1.4 MB)\r\n",
      "\u001b[2K   \u001b[90m━━━━━━━━━━━━━━━━━━━━━━━━━━━━━━━━━━━━━━━━\u001b[0m \u001b[32m1.4/1.4 MB\u001b[0m \u001b[31m58.1 MB/s\u001b[0m eta \u001b[36m0:00:00\u001b[0m\r\n",
      "\u001b[?25hDownloading ml_dtypes-0.5.3-cp311-cp311-manylinux_2_27_x86_64.manylinux_2_28_x86_64.whl (4.9 MB)\r\n",
      "\u001b[2K   \u001b[90m━━━━━━━━━━━━━━━━━━━━━━━━━━━━━━━━━━━━━━━━\u001b[0m \u001b[32m4.9/4.9 MB\u001b[0m \u001b[31m87.4 MB/s\u001b[0m eta \u001b[36m0:00:00\u001b[0m\r\n",
      "\u001b[?25hDownloading protobuf-6.32.1-cp39-abi3-manylinux2014_x86_64.whl (322 kB)\r\n",
      "\u001b[2K   \u001b[90m━━━━━━━━━━━━━━━━━━━━━━━━━━━━━━━━━━━━━━━━\u001b[0m \u001b[32m322.0/322.0 kB\u001b[0m \u001b[31m20.5 MB/s\u001b[0m eta \u001b[36m0:00:00\u001b[0m\r\n",
      "\u001b[?25hDownloading tensorboard-2.20.0-py3-none-any.whl (5.5 MB)\r\n",
      "\u001b[2K   \u001b[90m━━━━━━━━━━━━━━━━━━━━━━━━━━━━━━━━━━━━━━━━\u001b[0m \u001b[32m5.5/5.5 MB\u001b[0m \u001b[31m93.3 MB/s\u001b[0m eta \u001b[36m0:00:00\u001b[0m\r\n",
      "\u001b[?25hInstalling collected packages: protobuf, numpy, tensorboard, pandas, ml_dtypes, biopython, keras, tensorflow\r\n",
      "  Attempting uninstall: protobuf\r\n",
      "    Found existing installation: protobuf 3.20.3\r\n",
      "    Uninstalling protobuf-3.20.3:\r\n",
      "      Successfully uninstalled protobuf-3.20.3\r\n",
      "  Attempting uninstall: numpy\r\n",
      "    Found existing installation: numpy 1.26.4\r\n",
      "    Uninstalling numpy-1.26.4:\r\n",
      "      Successfully uninstalled numpy-1.26.4\r\n",
      "  Attempting uninstall: tensorboard\r\n",
      "    Found existing installation: tensorboard 2.18.0\r\n",
      "    Uninstalling tensorboard-2.18.0:\r\n",
      "      Successfully uninstalled tensorboard-2.18.0\r\n",
      "  Attempting uninstall: pandas\r\n",
      "    Found existing installation: pandas 2.2.3\r\n",
      "    Uninstalling pandas-2.2.3:\r\n",
      "      Successfully uninstalled pandas-2.2.3\r\n",
      "  Attempting uninstall: ml_dtypes\r\n",
      "    Found existing installation: ml-dtypes 0.4.1\r\n",
      "    Uninstalling ml-dtypes-0.4.1:\r\n",
      "      Successfully uninstalled ml-dtypes-0.4.1\r\n",
      "  Attempting uninstall: keras\r\n",
      "    Found existing installation: keras 3.8.0\r\n",
      "    Uninstalling keras-3.8.0:\r\n",
      "      Successfully uninstalled keras-3.8.0\r\n",
      "  Attempting uninstall: tensorflow\r\n",
      "    Found existing installation: tensorflow 2.18.0\r\n",
      "    Uninstalling tensorflow-2.18.0:\r\n",
      "      Successfully uninstalled tensorflow-2.18.0\r\n",
      "\u001b[31mERROR: pip's dependency resolver does not currently take into account all the packages that are installed. This behaviour is the source of the following dependency conflicts.\r\n",
      "bigframes 2.8.0 requires google-cloud-bigquery-storage<3.0.0,>=2.30.0, which is not installed.\r\n",
      "gensim 4.3.3 requires numpy<2.0,>=1.18.5, but you have numpy 2.3.3 which is incompatible.\r\n",
      "gensim 4.3.3 requires scipy<1.14.0,>=1.7.0, but you have scipy 1.15.3 which is incompatible.\r\n",
      "mkl-umath 0.1.1 requires numpy<1.27.0,>=1.26.4, but you have numpy 2.3.3 which is incompatible.\r\n",
      "mkl-random 1.2.4 requires numpy<1.27.0,>=1.26.4, but you have numpy 2.3.3 which is incompatible.\r\n",
      "mkl-fft 1.3.8 requires numpy<1.27.0,>=1.26.4, but you have numpy 2.3.3 which is incompatible.\r\n",
      "cupy-cuda12x 13.4.1 requires numpy<2.3,>=1.22, but you have numpy 2.3.3 which is incompatible.\r\n",
      "dask-cudf-cu12 25.2.2 requires pandas<2.2.4dev0,>=2.0, but you have pandas 2.3.2 which is incompatible.\r\n",
      "numba 0.60.0 requires numpy<2.1,>=1.22, but you have numpy 2.3.3 which is incompatible.\r\n",
      "cudf-cu12 25.2.2 requires pandas<2.2.4dev0,>=2.0, but you have pandas 2.3.2 which is incompatible.\r\n",
      "google-api-core 1.34.1 requires protobuf!=3.20.0,!=3.20.1,!=4.21.0,!=4.21.1,!=4.21.2,!=4.21.3,!=4.21.4,!=4.21.5,<4.0.0dev,>=3.19.5, but you have protobuf 6.32.1 which is incompatible.\r\n",
      "datasets 3.6.0 requires fsspec[http]<=2025.3.0,>=2023.1.0, but you have fsspec 2025.5.1 which is incompatible.\r\n",
      "ydata-profiling 4.16.1 requires numpy<2.2,>=1.16.0, but you have numpy 2.3.3 which is incompatible.\r\n",
      "google-cloud-translate 3.12.1 requires protobuf!=3.20.0,!=3.20.1,!=4.21.0,!=4.21.1,!=4.21.2,!=4.21.3,!=4.21.4,!=4.21.5,<5.0.0dev,>=3.19.5, but you have protobuf 6.32.1 which is incompatible.\r\n",
      "google-colab 1.0.0 requires google-auth==2.38.0, but you have google-auth 2.40.3 which is incompatible.\r\n",
      "google-colab 1.0.0 requires notebook==6.5.7, but you have notebook 6.5.4 which is incompatible.\r\n",
      "google-colab 1.0.0 requires pandas==2.2.2, but you have pandas 2.3.2 which is incompatible.\r\n",
      "google-colab 1.0.0 requires requests==2.32.3, but you have requests 2.32.4 which is incompatible.\r\n",
      "google-colab 1.0.0 requires tornado==6.4.2, but you have tornado 6.5.1 which is incompatible.\r\n",
      "dopamine-rl 4.1.2 requires gymnasium>=1.0.0, but you have gymnasium 0.29.0 which is incompatible.\r\n",
      "pandas-gbq 0.29.1 requires google-api-core<3.0.0,>=2.10.2, but you have google-api-core 1.34.1 which is incompatible.\r\n",
      "google-ai-generativelanguage 0.6.15 requires protobuf!=4.21.0,!=4.21.1,!=4.21.2,!=4.21.3,!=4.21.4,!=4.21.5,<6.0.0dev,>=3.20.2, but you have protobuf 6.32.1 which is incompatible.\r\n",
      "imbalanced-learn 0.13.0 requires scikit-learn<2,>=1.3.2, but you have scikit-learn 1.2.2 which is incompatible.\r\n",
      "tf-keras 2.18.0 requires tensorflow<2.19,>=2.18, but you have tensorflow 2.20.0 which is incompatible.\r\n",
      "tensorflow-decision-forests 1.11.0 requires tensorflow==2.18.0, but you have tensorflow 2.20.0 which is incompatible.\r\n",
      "google-cloud-storage 2.19.0 requires google-api-core<3.0.0dev,>=2.15.0, but you have google-api-core 1.34.1 which is incompatible.\r\n",
      "tensorflow-text 2.18.1 requires tensorflow<2.19,>=2.18.0, but you have tensorflow 2.20.0 which is incompatible.\r\n",
      "plotnine 0.14.5 requires matplotlib>=3.8.0, but you have matplotlib 3.7.2 which is incompatible.\r\n",
      "dataproc-spark-connect 0.7.5 requires google-api-core>=2.19, but you have google-api-core 1.34.1 which is incompatible.\r\n",
      "bigframes 2.8.0 requires google-cloud-bigquery[bqstorage,pandas]>=3.31.0, but you have google-cloud-bigquery 3.25.0 which is incompatible.\r\n",
      "bigframes 2.8.0 requires rich<14,>=12.4.4, but you have rich 14.0.0 which is incompatible.\r\n",
      "mlxtend 0.23.4 requires scikit-learn>=1.3.1, but you have scikit-learn 1.2.2 which is incompatible.\u001b[0m\u001b[31m\r\n",
      "\u001b[0mSuccessfully installed biopython-1.85 keras-3.11.3 ml_dtypes-0.5.3 numpy-2.3.3 pandas-2.3.2 protobuf-6.32.1 tensorboard-2.20.0 tensorflow-2.20.0\r\n"
     ]
    }
   ],
   "source": [
    "!pip install --upgrade tensorflow pandas numpy biopython"
   ]
  },
  {
   "cell_type": "code",
   "execution_count": 3,
   "id": "27fd55e5",
   "metadata": {
    "execution": {
     "iopub.execute_input": "2025-09-24T00:55:35.378214Z",
     "iopub.status.busy": "2025-09-24T00:55:35.377415Z",
     "iopub.status.idle": "2025-09-24T00:55:42.402842Z",
     "shell.execute_reply": "2025-09-24T00:55:42.401974Z"
    },
    "papermill": {
     "duration": 7.040498,
     "end_time": "2025-09-24T00:55:42.404167",
     "exception": false,
     "start_time": "2025-09-24T00:55:35.363669",
     "status": "completed"
    },
    "tags": []
   },
   "outputs": [
    {
     "name": "stdout",
     "output_type": "stream",
     "text": [
      "✅ Setup complete!\n",
      "TensorFlow Version: 2.20.0\n",
      "NumPy Version: 1.26.4\n",
      "Pandas Version: 2.2.3\n",
      "BioPython Version: 1.85\n"
     ]
    }
   ],
   "source": [
    "import tensorflow as tf\n",
    "import pandas as pd\n",
    "import numpy as np\n",
    "import Bio\n",
    "\n",
    "print(\"✅ Setup complete!\")\n",
    "print(\"TensorFlow Version:\", tf.__version__)\n",
    "print(\"NumPy Version:\", np.__version__)\n",
    "print(\"Pandas Version:\", pd.__version__)\n",
    "print(\"BioPython Version:\", Bio.__version__)"
   ]
  },
  {
   "cell_type": "markdown",
   "id": "f1d039a8",
   "metadata": {
    "papermill": {
     "duration": 0.012915,
     "end_time": "2025-09-24T00:55:42.429819",
     "exception": false,
     "start_time": "2025-09-24T00:55:42.416904",
     "status": "completed"
    },
    "tags": []
   },
   "source": [
    "**Getting the data**"
   ]
  },
  {
   "cell_type": "code",
   "execution_count": 4,
   "id": "afc39d50",
   "metadata": {
    "execution": {
     "iopub.execute_input": "2025-09-24T00:55:42.456923Z",
     "iopub.status.busy": "2025-09-24T00:55:42.455782Z",
     "iopub.status.idle": "2025-09-24T00:56:04.327983Z",
     "shell.execute_reply": "2025-09-24T00:56:04.326942Z"
    },
    "papermill": {
     "duration": 21.886672,
     "end_time": "2025-09-24T00:56:04.329287",
     "exception": false,
     "start_time": "2025-09-24T00:55:42.442615",
     "status": "completed"
    },
    "tags": []
   },
   "outputs": [
    {
     "name": "stdout",
     "output_type": "stream",
     "text": [
      "Data will be saved to: /kaggle/working/GenomicStoryteller/lassa_virus_genomes.fasta\n",
      "Searching NCBI for Lassa virus complete genomes...\n",
      "Found 2811 records.\n",
      "Fetching FASTA records...\n",
      "  Fetching records 1 to 200...\n",
      "  Fetching records 201 to 400...\n",
      "  Fetching records 401 to 600...\n",
      "  Fetching records 601 to 800...\n",
      "  Fetching records 801 to 1000...\n",
      "  Fetching records 1001 to 1200...\n",
      "  Fetching records 1201 to 1400...\n",
      "  Fetching records 1401 to 1600...\n",
      "  Fetching records 1601 to 1800...\n",
      "  Fetching records 1801 to 2000...\n",
      "  Fetching records 2001 to 2200...\n",
      "  Fetching records 2201 to 2400...\n",
      "  Fetching records 2401 to 2600...\n",
      "  Fetching records 2601 to 2800...\n",
      "  Fetching records 2801 to 2811...\n",
      "\n",
      "✅ Success! All FASTA files have been downloaded and combined into a single file.\n",
      "You can find your data at: /kaggle/working/GenomicStoryteller/lassa_virus_genomes.fasta\n"
     ]
    }
   ],
   "source": [
    "\n",
    "# Import necessary libraries\n",
    "from Bio import Entrez\n",
    "from Bio import SeqIO\n",
    "import os\n",
    "\n",
    "# --- Configuration ---\n",
    "# NCBI requires you to identify yourself with an email address.\n",
    "# Replace this with your actual email.\n",
    "Entrez.email = \"ayotunde326@gmail.com\"\n",
    "\n",
    "# The official name of the Lassa virus.\n",
    "search_term = 'txid3052310[Organism]'\n",
    "\n",
    "# Define the path where we will save our data within the Kaggle environment.\n",
    "output_dir = \"/kaggle/working/GenomicStoryteller/\"\n",
    "output_file = os.path.join(output_dir, \"lassa_virus_genomes.fasta\")\n",
    "\n",
    "# --- Ensure the project directory exists ---\n",
    "os.makedirs(output_dir, exist_ok=True)\n",
    "print(f\"Data will be saved to: {output_file}\")\n",
    "\n",
    "\n",
    "#   the genomic records\n",
    "print(\"Searching NCBI for Lassa virus complete genomes...\")\n",
    "handle = Entrez.esearch(db=\"nuccore\",       # Search the nucleotide database\n",
    "                        term=search_term,\n",
    "                        retmax=\"10000\")     # Get up to 10,000 records\n",
    "record = Entrez.read(handle)\n",
    "handle.close()\n",
    "id_list = record[\"IdList\"]\n",
    "print(f\"Found {len(id_list)} records.\")\n",
    "\n",
    "\n",
    "# Fetch the records and save them \n",
    "print(\"Fetching FASTA records...\")\n",
    "# Fetch in batches\n",
    "batch_size = 200\n",
    "with open(output_file, \"w\") as out_handle:\n",
    "    for start in range(0, len(id_list), batch_size):\n",
    "        end = min(len(id_list), start + batch_size)\n",
    "        print(f\"  Fetching records {start+1} to {end}...\")\n",
    "        \n",
    "        # actual data for the IDs in FASTA format\n",
    "        fetch_handle = Entrez.efetch(db=\"nuccore\",\n",
    "                                     id=id_list[start:end],\n",
    "                                     rettype=\"fasta\",\n",
    "                                     retmode=\"text\")\n",
    "        \n",
    "        # Read the data and write it to file\n",
    "        data = fetch_handle.read()\n",
    "        fetch_handle.close()\n",
    "        out_handle.write(data)\n",
    "\n",
    "print(\"\\n✅ Success! All FASTA files have been downloaded and combined into a single file.\")\n",
    "print(f\"You can find your data at: {output_file}\")"
   ]
  },
  {
   "cell_type": "markdown",
   "id": "d48be295",
   "metadata": {
    "papermill": {
     "duration": 0.012786,
     "end_time": "2025-09-24T00:56:04.355784",
     "exception": false,
     "start_time": "2025-09-24T00:56:04.342998",
     "status": "completed"
    },
    "tags": []
   },
   "source": [
    "**Preprocessing FASTA files**"
   ]
  },
  {
   "cell_type": "code",
   "execution_count": 5,
   "id": "6623f605",
   "metadata": {
    "execution": {
     "iopub.execute_input": "2025-09-24T00:56:04.383510Z",
     "iopub.status.busy": "2025-09-24T00:56:04.382764Z",
     "iopub.status.idle": "2025-09-24T00:56:04.610908Z",
     "shell.execute_reply": "2025-09-24T00:56:04.609738Z"
    },
    "papermill": {
     "duration": 0.24371,
     "end_time": "2025-09-24T00:56:04.612484",
     "exception": false,
     "start_time": "2025-09-24T00:56:04.368774",
     "status": "completed"
    },
    "tags": []
   },
   "outputs": [
    {
     "name": "stdout",
     "output_type": "stream",
     "text": [
      "--- Starting Data Pre-processing ---\n",
      "Successfully parsed 2811 sequences.\n",
      "Total characters in corpus: 9,136,220\n",
      "Vocabulary size: 11\n",
      "Vocabulary: ['A', 'C', 'G', 'K', 'M', 'N', 'R', 'S', 'T', 'W', 'Y']\n",
      "\n",
      "Character-to-Integer Mapping:\n",
      "{'A': 0, 'C': 1, 'G': 2, 'K': 3, 'M': 4, 'N': 5, 'R': 6, 'S': 7, 'T': 8, 'W': 9, 'Y': 10}\n",
      "\n",
      "Clean corpus saved to: /kaggle/working/GenomicStoryteller/lassa_corpus.txt\n",
      "--- Pre-processing Complete! ---\n"
     ]
    }
   ],
   "source": [
    "\n",
    "# Path to the data we downloaded in the previous step\n",
    "input_fasta_file = \"/kaggle/working/GenomicStoryteller/lassa_virus_genomes.fasta\"\n",
    "\n",
    "# Paths for our new, clean output files\n",
    "output_dir = \"/kaggle/working/GenomicStoryteller/\"\n",
    "corpus_file = os.path.join(output_dir, \"lassa_corpus.txt\")\n",
    "\n",
    "print(\"--- Starting Data Pre-processing ---\")\n",
    "\n",
    "# --- Step 2: Parse the FASTA file and Concatenate Sequences ---\n",
    "all_sequences = []\n",
    "# Use Biopython's SeqIO to parse the FASTA file\n",
    "for record in SeqIO.parse(input_fasta_file, \"fasta\"):\n",
    "    # record.seq is a Biopython Seq object, convert it to a string\n",
    "    all_sequences.append(str(record.seq))\n",
    "\n",
    "# Join all individual sequences into one massive string (our corpus)\n",
    "# We use an empty string '' to join them without any separator\n",
    "corpus = \"\".join(all_sequences)\n",
    "\n",
    "print(f\"Successfully parsed {len(all_sequences)} sequences.\")\n",
    "print(f\"Total characters in corpus: {len(corpus):,}\") # The :, adds comma separators for readability\n",
    "\n",
    "# --- Step 3: Create the Vocabulary and Mappings ---\n",
    "# Find all unique characters in our corpus\n",
    "# The set() function automatically finds the unique items\n",
    "chars = sorted(list(set(corpus)))\n",
    "vocab_size = len(chars)\n",
    "\n",
    "print(f\"Vocabulary size: {vocab_size}\")\n",
    "print(f\"Vocabulary: {chars}\")\n",
    "\n",
    "# Create the character-to-integer mapping (char -> int)\n",
    "char_to_int = {char: i for i, char in enumerate(chars)}\n",
    "\n",
    "# Create the integer-to-character mapping (int -> char)\n",
    "int_to_char = {i: char for i, char in enumerate(chars)}\n",
    "\n",
    "print(\"\\nCharacter-to-Integer Mapping:\")\n",
    "print(char_to_int)\n",
    "\n",
    "# --- Step 4: Save the Clean Corpus ---\n",
    "# Save our massive string to a new, clean text file.\n",
    "# This is our primary deliverable.\n",
    "with open(corpus_file, \"w\") as f:\n",
    "    f.write(corpus)\n",
    "\n",
    "print(f\"\\nClean corpus saved to: {corpus_file}\")\n",
    "print(\"--- Pre-processing Complete! ---\")\n",
    "\n",
    "# You can now use the `corpus`, `char_to_int`, and `int_to_char` variables\n",
    "# in the next steps of the project."
   ]
  },
  {
   "cell_type": "markdown",
   "id": "8d5dc9b9",
   "metadata": {
    "papermill": {
     "duration": 0.012898,
     "end_time": "2025-09-24T00:56:04.639285",
     "exception": false,
     "start_time": "2025-09-24T00:56:04.626387",
     "status": "completed"
    },
    "tags": []
   },
   "source": [
    "**Training out LSTM model- Data preparation**"
   ]
  },
  {
   "cell_type": "code",
   "execution_count": 6,
   "id": "39ed7c03",
   "metadata": {
    "execution": {
     "iopub.execute_input": "2025-09-24T00:56:04.666696Z",
     "iopub.status.busy": "2025-09-24T00:56:04.666040Z",
     "iopub.status.idle": "2025-09-24T00:58:32.257584Z",
     "shell.execute_reply": "2025-09-24T00:58:32.256740Z"
    },
    "papermill": {
     "duration": 147.619695,
     "end_time": "2025-09-24T00:58:32.272090",
     "exception": false,
     "start_time": "2025-09-24T00:56:04.652395",
     "status": "completed"
    },
    "tags": []
   },
   "outputs": [
    {
     "name": "stdout",
     "output_type": "stream",
     "text": [
      "Corpus length: 9,136,220 characters\n",
      "Vocabulary size: 11\n",
      "Created 9,136,120 training sequences.\n",
      "Vectorization complete.\n",
      "Shape of X: (9136120, 100)\n",
      "Shape of y: (9136120,)\n",
      "Training data saved to /kaggle/working/GenomicStoryteller/training_data.npz\n",
      "--- Data Preparation Complete! ---\n"
     ]
    }
   ],
   "source": [
    "\n",
    "import json # We'll use this to save our mappings\n",
    "\n",
    "# --- Step 1: Load Pre-processed Data ---\n",
    "# Define the paths to the files we created in the previous step\n",
    "output_dir = \"/kaggle/working/GenomicStoryteller/\"\n",
    "corpus_file = os.path.join(output_dir, \"lassa_corpus.txt\")\n",
    "\n",
    "# Load the clean corpus from the text file\n",
    "with open(corpus_file, 'r') as f:\n",
    "    corpus = f.read()\n",
    "\n",
    "# Recreate the vocabulary and mappings.\n",
    "# This ensures that even if we restart the notebook, we have the correct mappings.\n",
    "chars = sorted(list(set(corpus)))\n",
    "vocab_size = len(chars)\n",
    "char_to_int = {char: i for i, char in enumerate(chars)}\n",
    "int_to_char = {i: char for i, char in enumerate(chars)}\n",
    "\n",
    "# Save the mappings for later use, which is a good practice\n",
    "with open(os.path.join(output_dir, 'mappings.json'), 'w') as f:\n",
    "    json.dump({'char_to_int': char_to_int, 'int_to_char': int_to_char}, f)\n",
    "\n",
    "print(f\"Corpus length: {len(corpus):,} characters\")\n",
    "print(f\"Vocabulary size: {vocab_size}\")\n",
    "\n",
    "# --- Step 2: Define Parameters and Create Sequences ---\n",
    "# How many characters of context will the model see at a time?\n",
    "sequence_length = 100\n",
    "\n",
    "# Lists to hold our input sequences (X) and target characters (y)\n",
    "sequences = []\n",
    "targets = []\n",
    "\n",
    "# Create the sequences using the sliding window method\n",
    "for i in range(0, len(corpus) - sequence_length):\n",
    "    input_seq = corpus[i : i + sequence_length]\n",
    "    target_char = corpus[i + sequence_length]\n",
    "    sequences.append(input_seq)\n",
    "    targets.append(target_char)\n",
    "\n",
    "num_sequences = len(sequences)\n",
    "print(f\"Created {num_sequences:,} training sequences.\")\n",
    "\n",
    "# --- Step 3: Vectorize the Data (Translate to Numbers) ---\n",
    "# The model needs numbers, not characters. Let's translate.\n",
    "X = np.zeros((num_sequences, sequence_length), dtype=np.int32)\n",
    "y = np.zeros((num_sequences), dtype=np.int32)\n",
    "\n",
    "for i, seq in enumerate(sequences):\n",
    "    X[i] = [char_to_int[char] for char in seq]\n",
    "    y[i] = char_to_int[targets[i]]\n",
    "\n",
    "print(\"Vectorization complete.\")\n",
    "print(f\"Shape of X: {X.shape}\") # Should be (num_sequences, 100)\n",
    "print(f\"Shape of y: {y.shape}\") # Should be (num_sequences,)\n",
    "\n",
    "# --- (Optional but Recommended) Save the Prepared Data ---\n",
    "# For a large corpus, this step can take time.\n",
    "# Saving the processed data means we don't have to rerun it every time.\n",
    "np.savez_compressed(\n",
    "    os.path.join(output_dir, 'training_data.npz'),\n",
    "    X=X,\n",
    "    y=y,\n",
    "    vocab_size=np.array([vocab_size]) # save vocab_size as a numpy array\n",
    ")\n",
    "\n",
    "print(f\"Training data saved to {os.path.join(output_dir, 'training_data.npz')}\")\n",
    "print(\"--- Data Preparation Complete! ---\")"
   ]
  },
  {
   "cell_type": "markdown",
   "id": "bee975ba",
   "metadata": {
    "papermill": {
     "duration": 0.013317,
     "end_time": "2025-09-24T00:58:32.298224",
     "exception": false,
     "start_time": "2025-09-24T00:58:32.284907",
     "status": "completed"
    },
    "tags": []
   },
   "source": [
    "**Load data up**"
   ]
  },
  {
   "cell_type": "code",
   "execution_count": 7,
   "id": "a91d92da",
   "metadata": {
    "execution": {
     "iopub.execute_input": "2025-09-24T00:58:32.326201Z",
     "iopub.status.busy": "2025-09-24T00:58:32.325928Z",
     "iopub.status.idle": "2025-09-24T00:58:40.398086Z",
     "shell.execute_reply": "2025-09-24T00:58:40.397220Z"
    },
    "papermill": {
     "duration": 8.088127,
     "end_time": "2025-09-24T00:58:40.399665",
     "exception": false,
     "start_time": "2025-09-24T00:58:32.311538",
     "status": "completed"
    },
    "tags": []
   },
   "outputs": [
    {
     "name": "stdout",
     "output_type": "stream",
     "text": [
      "--- Data Loaded ---\n",
      "X shape: (9136120, 100)\n",
      "y shape: (9136120,)\n",
      "Vocabulary size: 11\n"
     ]
    }
   ],
   "source": [
    "\n",
    "\n",
    "# Define the path to our processed data\n",
    "output_dir = \"/kaggle/working/GenomicStoryteller/\"\n",
    "training_data_file = os.path.join(output_dir, 'training_data.npz')\n",
    "mappings_file = os.path.join(output_dir, 'mappings.json')\n",
    "\n",
    "# Load the training data\n",
    "with np.load(training_data_file) as data:\n",
    "    X = data['X']\n",
    "    y = data['y']\n",
    "    # vocab_size was saved as an array, so we extract the number\n",
    "    vocab_size = data['vocab_size'][0]\n",
    "\n",
    "# Load the mappings\n",
    "with open(mappings_file, 'r') as f:\n",
    "    mappings = json.load(f)\n",
    "    char_to_int = mappings['char_to_int']\n",
    "    int_to_char = mappings['int_to_char']\n",
    "\n",
    "print(\"--- Data Loaded ---\")\n",
    "print(f\"X shape: {X.shape}\")\n",
    "print(f\"y shape: {y.shape}\")\n",
    "print(f\"Vocabulary size: {vocab_size}\")"
   ]
  },
  {
   "cell_type": "markdown",
   "id": "d1418d5e",
   "metadata": {
    "papermill": {
     "duration": 0.013766,
     "end_time": "2025-09-24T00:58:40.427758",
     "exception": false,
     "start_time": "2025-09-24T00:58:40.413992",
     "status": "completed"
    },
    "tags": []
   },
   "source": [
    "**Model Architecture**"
   ]
  },
  {
   "cell_type": "code",
   "execution_count": 8,
   "id": "8e6e17f3",
   "metadata": {
    "execution": {
     "iopub.execute_input": "2025-09-24T00:58:40.516410Z",
     "iopub.status.busy": "2025-09-24T00:58:40.515522Z",
     "iopub.status.idle": "2025-09-24T00:58:42.167389Z",
     "shell.execute_reply": "2025-09-24T00:58:42.166582Z"
    },
    "papermill": {
     "duration": 1.727009,
     "end_time": "2025-09-24T00:58:42.168814",
     "exception": false,
     "start_time": "2025-09-24T00:58:40.441805",
     "status": "completed"
    },
    "tags": []
   },
   "outputs": [
    {
     "name": "stderr",
     "output_type": "stream",
     "text": [
      "/usr/local/lib/python3.11/dist-packages/keras/src/layers/core/embedding.py:97: UserWarning: Argument `input_length` is deprecated. Just remove it.\n",
      "  warnings.warn(\n",
      "WARNING: All log messages before absl::InitializeLog() is called are written to STDERR\n",
      "I0000 00:00:1758675521.859554      19 gpu_device.cc:2020] Created device /job:localhost/replica:0/task:0/device:GPU:0 with 13942 MB memory:  -> device: 0, name: Tesla T4, pci bus id: 0000:00:04.0, compute capability: 7.5\n",
      "I0000 00:00:1758675521.860458      19 gpu_device.cc:2020] Created device /job:localhost/replica:0/task:0/device:GPU:1 with 13942 MB memory:  -> device: 1, name: Tesla T4, pci bus id: 0000:00:05.0, compute capability: 7.5\n"
     ]
    },
    {
     "name": "stdout",
     "output_type": "stream",
     "text": [
      "\n",
      "--- Model Architecture ---\n"
     ]
    },
    {
     "data": {
      "text/html": [
       "<pre style=\"white-space:pre;overflow-x:auto;line-height:normal;font-family:Menlo,'DejaVu Sans Mono',consolas,'Courier New',monospace\"><span style=\"font-weight: bold\">Model: \"sequential\"</span>\n",
       "</pre>\n"
      ],
      "text/plain": [
       "\u001b[1mModel: \"sequential\"\u001b[0m\n"
      ]
     },
     "metadata": {},
     "output_type": "display_data"
    },
    {
     "data": {
      "text/html": [
       "<pre style=\"white-space:pre;overflow-x:auto;line-height:normal;font-family:Menlo,'DejaVu Sans Mono',consolas,'Courier New',monospace\">┏━━━━━━━━━━━━━━━━━━━━━━━━━━━━━━━━━┳━━━━━━━━━━━━━━━━━━━━━━━━┳━━━━━━━━━━━━━━━┓\n",
       "┃<span style=\"font-weight: bold\"> Layer (type)                    </span>┃<span style=\"font-weight: bold\"> Output Shape           </span>┃<span style=\"font-weight: bold\">       Param # </span>┃\n",
       "┡━━━━━━━━━━━━━━━━━━━━━━━━━━━━━━━━━╇━━━━━━━━━━━━━━━━━━━━━━━━╇━━━━━━━━━━━━━━━┩\n",
       "│ embedding (<span style=\"color: #0087ff; text-decoration-color: #0087ff\">Embedding</span>)           │ ?                      │   <span style=\"color: #00af00; text-decoration-color: #00af00\">0</span> (unbuilt) │\n",
       "├─────────────────────────────────┼────────────────────────┼───────────────┤\n",
       "│ lstm (<span style=\"color: #0087ff; text-decoration-color: #0087ff\">LSTM</span>)                     │ ?                      │   <span style=\"color: #00af00; text-decoration-color: #00af00\">0</span> (unbuilt) │\n",
       "├─────────────────────────────────┼────────────────────────┼───────────────┤\n",
       "│ dropout (<span style=\"color: #0087ff; text-decoration-color: #0087ff\">Dropout</span>)               │ ?                      │             <span style=\"color: #00af00; text-decoration-color: #00af00\">0</span> │\n",
       "├─────────────────────────────────┼────────────────────────┼───────────────┤\n",
       "│ lstm_1 (<span style=\"color: #0087ff; text-decoration-color: #0087ff\">LSTM</span>)                   │ ?                      │   <span style=\"color: #00af00; text-decoration-color: #00af00\">0</span> (unbuilt) │\n",
       "├─────────────────────────────────┼────────────────────────┼───────────────┤\n",
       "│ dropout_1 (<span style=\"color: #0087ff; text-decoration-color: #0087ff\">Dropout</span>)             │ ?                      │             <span style=\"color: #00af00; text-decoration-color: #00af00\">0</span> │\n",
       "├─────────────────────────────────┼────────────────────────┼───────────────┤\n",
       "│ dense (<span style=\"color: #0087ff; text-decoration-color: #0087ff\">Dense</span>)                   │ ?                      │   <span style=\"color: #00af00; text-decoration-color: #00af00\">0</span> (unbuilt) │\n",
       "└─────────────────────────────────┴────────────────────────┴───────────────┘\n",
       "</pre>\n"
      ],
      "text/plain": [
       "┏━━━━━━━━━━━━━━━━━━━━━━━━━━━━━━━━━┳━━━━━━━━━━━━━━━━━━━━━━━━┳━━━━━━━━━━━━━━━┓\n",
       "┃\u001b[1m \u001b[0m\u001b[1mLayer (type)                   \u001b[0m\u001b[1m \u001b[0m┃\u001b[1m \u001b[0m\u001b[1mOutput Shape          \u001b[0m\u001b[1m \u001b[0m┃\u001b[1m \u001b[0m\u001b[1m      Param #\u001b[0m\u001b[1m \u001b[0m┃\n",
       "┡━━━━━━━━━━━━━━━━━━━━━━━━━━━━━━━━━╇━━━━━━━━━━━━━━━━━━━━━━━━╇━━━━━━━━━━━━━━━┩\n",
       "│ embedding (\u001b[38;5;33mEmbedding\u001b[0m)           │ ?                      │   \u001b[38;5;34m0\u001b[0m (unbuilt) │\n",
       "├─────────────────────────────────┼────────────────────────┼───────────────┤\n",
       "│ lstm (\u001b[38;5;33mLSTM\u001b[0m)                     │ ?                      │   \u001b[38;5;34m0\u001b[0m (unbuilt) │\n",
       "├─────────────────────────────────┼────────────────────────┼───────────────┤\n",
       "│ dropout (\u001b[38;5;33mDropout\u001b[0m)               │ ?                      │             \u001b[38;5;34m0\u001b[0m │\n",
       "├─────────────────────────────────┼────────────────────────┼───────────────┤\n",
       "│ lstm_1 (\u001b[38;5;33mLSTM\u001b[0m)                   │ ?                      │   \u001b[38;5;34m0\u001b[0m (unbuilt) │\n",
       "├─────────────────────────────────┼────────────────────────┼───────────────┤\n",
       "│ dropout_1 (\u001b[38;5;33mDropout\u001b[0m)             │ ?                      │             \u001b[38;5;34m0\u001b[0m │\n",
       "├─────────────────────────────────┼────────────────────────┼───────────────┤\n",
       "│ dense (\u001b[38;5;33mDense\u001b[0m)                   │ ?                      │   \u001b[38;5;34m0\u001b[0m (unbuilt) │\n",
       "└─────────────────────────────────┴────────────────────────┴───────────────┘\n"
      ]
     },
     "metadata": {},
     "output_type": "display_data"
    },
    {
     "data": {
      "text/html": [
       "<pre style=\"white-space:pre;overflow-x:auto;line-height:normal;font-family:Menlo,'DejaVu Sans Mono',consolas,'Courier New',monospace\"><span style=\"font-weight: bold\"> Total params: </span><span style=\"color: #00af00; text-decoration-color: #00af00\">0</span> (0.00 B)\n",
       "</pre>\n"
      ],
      "text/plain": [
       "\u001b[1m Total params: \u001b[0m\u001b[38;5;34m0\u001b[0m (0.00 B)\n"
      ]
     },
     "metadata": {},
     "output_type": "display_data"
    },
    {
     "data": {
      "text/html": [
       "<pre style=\"white-space:pre;overflow-x:auto;line-height:normal;font-family:Menlo,'DejaVu Sans Mono',consolas,'Courier New',monospace\"><span style=\"font-weight: bold\"> Trainable params: </span><span style=\"color: #00af00; text-decoration-color: #00af00\">0</span> (0.00 B)\n",
       "</pre>\n"
      ],
      "text/plain": [
       "\u001b[1m Trainable params: \u001b[0m\u001b[38;5;34m0\u001b[0m (0.00 B)\n"
      ]
     },
     "metadata": {},
     "output_type": "display_data"
    },
    {
     "data": {
      "text/html": [
       "<pre style=\"white-space:pre;overflow-x:auto;line-height:normal;font-family:Menlo,'DejaVu Sans Mono',consolas,'Courier New',monospace\"><span style=\"font-weight: bold\"> Non-trainable params: </span><span style=\"color: #00af00; text-decoration-color: #00af00\">0</span> (0.00 B)\n",
       "</pre>\n"
      ],
      "text/plain": [
       "\u001b[1m Non-trainable params: \u001b[0m\u001b[38;5;34m0\u001b[0m (0.00 B)\n"
      ]
     },
     "metadata": {},
     "output_type": "display_data"
    }
   ],
   "source": [
    "# --- Define Model Parameters ---\n",
    "EMBEDDING_DIM = 128   # The size of the vector for each character\n",
    "LSTM_UNITS = 256      # The number of memory units in the LSTM layer\n",
    "SEQUENCE_LENGTH = X.shape[1] # Should be 100 from our previous step\n",
    "\n",
    "# --- Build the Model ---\n",
    "model = tf.keras.Sequential([\n",
    "    # Step 2: The Embedding Layer (The \"Translator\")\n",
    "    tf.keras.layers.Embedding(\n",
    "        input_dim=vocab_size,\n",
    "        output_dim=EMBEDDING_DIM,\n",
    "        input_length=SEQUENCE_LENGTH\n",
    "    ),\n",
    "\n",
    "    # Step 3: The LSTM Layers (The \"Memory Core\")\n",
    "    tf.keras.layers.LSTM(\n",
    "        LSTM_UNITS,\n",
    "        return_sequences=True # Crucial for stacking LSTM layers\n",
    "    ),\n",
    "    tf.keras.layers.Dropout(0.2),\n",
    "    \n",
    "    tf.keras.layers.LSTM(LSTM_UNITS),\n",
    "\n",
    "    tf.keras.layers.Dropout(0.2),\n",
    "\n",
    "    # Step 4: The Dense Layer (The \"Decision Maker\")\n",
    "    tf.keras.layers.Dense(\n",
    "        vocab_size,\n",
    "        activation='softmax'\n",
    "    )\n",
    "])\n",
    "\n",
    "# --- Print the Model Summary ---\n",
    "print(\"\\n--- Model Architecture ---\")\n",
    "model.summary()"
   ]
  },
  {
   "cell_type": "markdown",
   "id": "7e5ae9d9",
   "metadata": {
    "papermill": {
     "duration": 0.015466,
     "end_time": "2025-09-24T00:58:42.199328",
     "exception": false,
     "start_time": "2025-09-24T00:58:42.183862",
     "status": "completed"
    },
    "tags": []
   },
   "source": [
    "**Train Model**"
   ]
  },
  {
   "cell_type": "code",
   "execution_count": 9,
   "id": "4555f989",
   "metadata": {
    "execution": {
     "iopub.execute_input": "2025-09-24T00:58:42.229567Z",
     "iopub.status.busy": "2025-09-24T00:58:42.229234Z",
     "iopub.status.idle": "2025-09-24T04:04:04.969786Z",
     "shell.execute_reply": "2025-09-24T04:04:04.968934Z"
    },
    "papermill": {
     "duration": 11129.834894,
     "end_time": "2025-09-24T04:04:12.048948",
     "exception": false,
     "start_time": "2025-09-24T00:58:42.214054",
     "status": "completed"
    },
    "tags": []
   },
   "outputs": [
    {
     "name": "stdout",
     "output_type": "stream",
     "text": [
      "--- Model Compiled ---\n"
     ]
    },
    {
     "data": {
      "text/html": [
       "<pre style=\"white-space:pre;overflow-x:auto;line-height:normal;font-family:Menlo,'DejaVu Sans Mono',consolas,'Courier New',monospace\"><span style=\"font-weight: bold\">Model: \"sequential_1\"</span>\n",
       "</pre>\n"
      ],
      "text/plain": [
       "\u001b[1mModel: \"sequential_1\"\u001b[0m\n"
      ]
     },
     "metadata": {},
     "output_type": "display_data"
    },
    {
     "data": {
      "text/html": [
       "<pre style=\"white-space:pre;overflow-x:auto;line-height:normal;font-family:Menlo,'DejaVu Sans Mono',consolas,'Courier New',monospace\">┏━━━━━━━━━━━━━━━━━━━━━━━━━━━━━━━━━┳━━━━━━━━━━━━━━━━━━━━━━━━┳━━━━━━━━━━━━━━━┓\n",
       "┃<span style=\"font-weight: bold\"> Layer (type)                    </span>┃<span style=\"font-weight: bold\"> Output Shape           </span>┃<span style=\"font-weight: bold\">       Param # </span>┃\n",
       "┡━━━━━━━━━━━━━━━━━━━━━━━━━━━━━━━━━╇━━━━━━━━━━━━━━━━━━━━━━━━╇━━━━━━━━━━━━━━━┩\n",
       "│ embedding_1 (<span style=\"color: #0087ff; text-decoration-color: #0087ff\">Embedding</span>)         │ ?                      │   <span style=\"color: #00af00; text-decoration-color: #00af00\">0</span> (unbuilt) │\n",
       "├─────────────────────────────────┼────────────────────────┼───────────────┤\n",
       "│ lstm_2 (<span style=\"color: #0087ff; text-decoration-color: #0087ff\">LSTM</span>)                   │ ?                      │   <span style=\"color: #00af00; text-decoration-color: #00af00\">0</span> (unbuilt) │\n",
       "├─────────────────────────────────┼────────────────────────┼───────────────┤\n",
       "│ lstm_3 (<span style=\"color: #0087ff; text-decoration-color: #0087ff\">LSTM</span>)                   │ ?                      │   <span style=\"color: #00af00; text-decoration-color: #00af00\">0</span> (unbuilt) │\n",
       "├─────────────────────────────────┼────────────────────────┼───────────────┤\n",
       "│ dense_1 (<span style=\"color: #0087ff; text-decoration-color: #0087ff\">Dense</span>)                 │ ?                      │   <span style=\"color: #00af00; text-decoration-color: #00af00\">0</span> (unbuilt) │\n",
       "└─────────────────────────────────┴────────────────────────┴───────────────┘\n",
       "</pre>\n"
      ],
      "text/plain": [
       "┏━━━━━━━━━━━━━━━━━━━━━━━━━━━━━━━━━┳━━━━━━━━━━━━━━━━━━━━━━━━┳━━━━━━━━━━━━━━━┓\n",
       "┃\u001b[1m \u001b[0m\u001b[1mLayer (type)                   \u001b[0m\u001b[1m \u001b[0m┃\u001b[1m \u001b[0m\u001b[1mOutput Shape          \u001b[0m\u001b[1m \u001b[0m┃\u001b[1m \u001b[0m\u001b[1m      Param #\u001b[0m\u001b[1m \u001b[0m┃\n",
       "┡━━━━━━━━━━━━━━━━━━━━━━━━━━━━━━━━━╇━━━━━━━━━━━━━━━━━━━━━━━━╇━━━━━━━━━━━━━━━┩\n",
       "│ embedding_1 (\u001b[38;5;33mEmbedding\u001b[0m)         │ ?                      │   \u001b[38;5;34m0\u001b[0m (unbuilt) │\n",
       "├─────────────────────────────────┼────────────────────────┼───────────────┤\n",
       "│ lstm_2 (\u001b[38;5;33mLSTM\u001b[0m)                   │ ?                      │   \u001b[38;5;34m0\u001b[0m (unbuilt) │\n",
       "├─────────────────────────────────┼────────────────────────┼───────────────┤\n",
       "│ lstm_3 (\u001b[38;5;33mLSTM\u001b[0m)                   │ ?                      │   \u001b[38;5;34m0\u001b[0m (unbuilt) │\n",
       "├─────────────────────────────────┼────────────────────────┼───────────────┤\n",
       "│ dense_1 (\u001b[38;5;33mDense\u001b[0m)                 │ ?                      │   \u001b[38;5;34m0\u001b[0m (unbuilt) │\n",
       "└─────────────────────────────────┴────────────────────────┴───────────────┘\n"
      ]
     },
     "metadata": {},
     "output_type": "display_data"
    },
    {
     "data": {
      "text/html": [
       "<pre style=\"white-space:pre;overflow-x:auto;line-height:normal;font-family:Menlo,'DejaVu Sans Mono',consolas,'Courier New',monospace\"><span style=\"font-weight: bold\"> Total params: </span><span style=\"color: #00af00; text-decoration-color: #00af00\">0</span> (0.00 B)\n",
       "</pre>\n"
      ],
      "text/plain": [
       "\u001b[1m Total params: \u001b[0m\u001b[38;5;34m0\u001b[0m (0.00 B)\n"
      ]
     },
     "metadata": {},
     "output_type": "display_data"
    },
    {
     "data": {
      "text/html": [
       "<pre style=\"white-space:pre;overflow-x:auto;line-height:normal;font-family:Menlo,'DejaVu Sans Mono',consolas,'Courier New',monospace\"><span style=\"font-weight: bold\"> Trainable params: </span><span style=\"color: #00af00; text-decoration-color: #00af00\">0</span> (0.00 B)\n",
       "</pre>\n"
      ],
      "text/plain": [
       "\u001b[1m Trainable params: \u001b[0m\u001b[38;5;34m0\u001b[0m (0.00 B)\n"
      ]
     },
     "metadata": {},
     "output_type": "display_data"
    },
    {
     "data": {
      "text/html": [
       "<pre style=\"white-space:pre;overflow-x:auto;line-height:normal;font-family:Menlo,'DejaVu Sans Mono',consolas,'Courier New',monospace\"><span style=\"font-weight: bold\"> Non-trainable params: </span><span style=\"color: #00af00; text-decoration-color: #00af00\">0</span> (0.00 B)\n",
       "</pre>\n"
      ],
      "text/plain": [
       "\u001b[1m Non-trainable params: \u001b[0m\u001b[38;5;34m0\u001b[0m (0.00 B)\n"
      ]
     },
     "metadata": {},
     "output_type": "display_data"
    },
    {
     "name": "stdout",
     "output_type": "stream",
     "text": [
      "\n",
      "--- Starting Model Training ---\n",
      "Epoch 1/5\n",
      "\u001b[1m64239/64239\u001b[0m \u001b[32m━━━━━━━━━━━━━━━━━━━━\u001b[0m\u001b[37m\u001b[0m \u001b[1m2231s\u001b[0m 35ms/step - accuracy: 0.5481 - loss: 1.0282 - val_accuracy: 0.6169 - val_loss: 0.9469\n",
      "Epoch 2/5\n",
      "\u001b[1m64239/64239\u001b[0m \u001b[32m━━━━━━━━━━━━━━━━━━━━\u001b[0m\u001b[37m\u001b[0m \u001b[1m2216s\u001b[0m 34ms/step - accuracy: 0.8186 - loss: 0.4891 - val_accuracy: 0.7640 - val_loss: 0.6071\n",
      "Epoch 3/5\n",
      "\u001b[1m64239/64239\u001b[0m \u001b[32m━━━━━━━━━━━━━━━━━━━━\u001b[0m\u001b[37m\u001b[0m \u001b[1m2206s\u001b[0m 34ms/step - accuracy: 0.8624 - loss: 0.3725 - val_accuracy: 0.8083 - val_loss: 0.5004\n",
      "Epoch 4/5\n",
      "\u001b[1m64239/64239\u001b[0m \u001b[32m━━━━━━━━━━━━━━━━━━━━\u001b[0m\u001b[37m\u001b[0m \u001b[1m2229s\u001b[0m 35ms/step - accuracy: 0.8825 - loss: 0.3224 - val_accuracy: 0.8257 - val_loss: 0.4564\n",
      "Epoch 5/5\n",
      "\u001b[1m64239/64239\u001b[0m \u001b[32m━━━━━━━━━━━━━━━━━━━━\u001b[0m\u001b[37m\u001b[0m \u001b[1m2227s\u001b[0m 35ms/step - accuracy: 0.8946 - loss: 0.2923 - val_accuracy: 0.8382 - val_loss: 0.4304\n",
      "--- Model Training Complete ---\n"
     ]
    },
    {
     "data": {
      "image/png": "[encoded data removed]",
      "text/plain": [
       "<Figure size 1200x500 with 2 Axes>"
      ]
     },
     "metadata": {},
     "output_type": "display_data"
    },
    {
     "name": "stdout",
     "output_type": "stream",
     "text": [
      "\n",
      "✅ Model saved to /kaggle/working/GenomicStoryteller/genomic_storyteller.h5\n"
     ]
    }
   ],
   "source": [
    "import matplotlib.pyplot as plt\n",
    "import numpy as np\n",
    "import tensorflow as tf\n",
    "import os\n",
    "import json\n",
    "\n",
    "# --- Step 1: Load Data and Rebuild Model ---\n",
    "# This ensures we can run this cell independently after restarting the notebook\n",
    "output_dir = \"/kaggle/working/GenomicStoryteller/\"\n",
    "training_data_file = os.path.join(output_dir, 'training_data.npz')\n",
    "mappings_file = os.path.join(output_dir, 'mappings.json')\n",
    "\n",
    "# Load the training data\n",
    "with np.load(training_data_file) as data:\n",
    "    X = data['X']\n",
    "    y = data['y']\n",
    "    vocab_size = data['vocab_size'][0]\n",
    "\n",
    "# --- Re-define the Model Architecture ---\n",
    "# (It's good practice to have the model definition in the same cell as training)\n",
    "EMBEDDING_DIM = 128\n",
    "LSTM_UNITS = 256\n",
    "SEQUENCE_LENGTH = X.shape[1]\n",
    "\n",
    "model = tf.keras.Sequential([\n",
    "    tf.keras.layers.Embedding(vocab_size, EMBEDDING_DIM),\n",
    "    tf.keras.layers.LSTM(LSTM_UNITS, return_sequences=True),\n",
    "    tf.keras.layers.LSTM(LSTM_UNITS),\n",
    "    tf.keras.layers.Dense(vocab_size, activation='softmax')\n",
    "])\n",
    "\n",
    "# --- Step 2: Compile the Model ---\n",
    "# We configure the model's learning process here\n",
    "custom_optimizer = tf.keras.optimizers.Adam(learning_rate=0.0001)\n",
    "\n",
    "model.compile(\n",
    "    optimizer=custom_optimizer,  # Use the new optimizer here\n",
    "    loss='sparse_categorical_crossentropy',\n",
    "    metrics=['accuracy']\n",
    ")\n",
    "\n",
    "print(\"--- Model Compiled ---\")\n",
    "model.summary() # Now the summary will show built parameters after compilation\n",
    "\n",
    "# --- Step 3: Train the Model ---\n",
    "# This is the main training run. It will be computationally intensive.\n",
    "EPOCHS = 5  # Start with a moderate number; you can increase this later\n",
    "BATCH_SIZE = 128 # The number of sequences to process in each batch\n",
    "\n",
    "print(\"\\n--- Starting Model Training ---\")\n",
    "history = model.fit(\n",
    "    X, y,\n",
    "    epochs=EPOCHS,\n",
    "    batch_size=BATCH_SIZE,\n",
    "    validation_split=0.1 # Use 10% of the data for validation\n",
    ")\n",
    "print(\"--- Model Training Complete ---\")\n",
    "\n",
    "# --- Step 4: Plot the Training History ---\n",
    "# This visualizes how the model's loss and accuracy improved over time\n",
    "plt.style.use('seaborn-v0_8-whitegrid')\n",
    "fig, (ax1, ax2) = plt.subplots(1, 2, figsize=(12, 5))\n",
    "\n",
    "# Plot training & validation accuracy values\n",
    "ax1.plot(history.history['accuracy'])\n",
    "ax1.plot(history.history['val_accuracy'])\n",
    "ax1.set_title('Model Accuracy')\n",
    "ax1.set_ylabel('Accuracy')\n",
    "ax1.set_xlabel('Epoch')\n",
    "ax1.legend(['Train', 'Validation'], loc='upper left')\n",
    "\n",
    "# Plot training & validation loss values\n",
    "ax2.plot(history.history['loss'])\n",
    "ax2.plot(history.history['val_loss'])\n",
    "ax2.set_title('Model Loss')\n",
    "ax2.set_ylabel('Loss')\n",
    "ax2.set_xlabel('Epoch')\n",
    "ax2.legend(['Train', 'Validation'], loc='upper left')\n",
    "\n",
    "plt.tight_layout()\n",
    "plt.show()\n",
    "\n",
    "\n",
    "# --- Step 5: Save the Trained Model ---\n",
    "# Save the model's learned weights to a file for later use\n",
    "model.save(os.path.join(output_dir, 'genomic_storyteller.h5'))\n",
    "print(f\"\\n✅ Model saved to {os.path.join(output_dir, 'genomic_storyteller.h5')}\")"
   ]
  }
 ],
 "metadata": {
  "kaggle": {
   "accelerator": "nvidiaTeslaT4",
   "dataSources": [],
   "dockerImageVersionId": 31089,
   "isGpuEnabled": true,
   "isInternetEnabled": true,
   "language": "python",
   "sourceType": "notebook"
  },
  "kernelspec": {
   "display_name": "Python 3",
   "language": "python",
   "name": "python3"
  },
  "language_info": {
   "codemirror_mode": {
    "name": "ipython",
    "version": 3
   },
   "file_extension": ".py",
   "mimetype": "text/x-python",
   "name": "python",
   "nbconvert_exporter": "python",
   "pygments_lexer": "ipython3",
   "version": "3.11.13"
  },
  "papermill": {
   "default_parameters": {},
   "duration": 11430.112136,
   "end_time": "2025-09-24T04:04:23.425476",
   "environment_variables": {},
   "exception": null,
   "input_path": "__notebook__.ipynb",
   "output_path": "__notebook__.ipynb",
   "parameters": {},
   "start_time": "2025-09-24T00:53:53.313340",
   "version": "2.6.0"
  }
 },
 "nbformat": 4,
 "nbformat_minor": 5
}
